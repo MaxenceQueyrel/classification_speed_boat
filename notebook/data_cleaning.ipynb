{
 "cells": [
  {
   "cell_type": "code",
   "execution_count": 124,
   "metadata": {},
   "outputs": [],
   "source": [
    "import numpy as np\n",
    "import skimage\n",
    "from skimage import io\n",
    "import os"
   ]
  },
  {
   "cell_type": "code",
   "execution_count": 152,
   "metadata": {},
   "outputs": [],
   "source": [
    "def create_list_box(img, coord, grid_box = [100, 150, 200]):\n",
    "    #coord = xmin, xmax, ymin, ymax\n",
    "    #img = np.array with shape (768,768,3)\n",
    "    #grid_box corresponds to number of pixel to add to the bounding box of the boat\n",
    "    xmin, xmax, ymin, ymax = coord\n",
    "    list_box = []\n",
    "    for npi in grid_box:\n",
    "\n",
    "        ymax_npi = ymax+npi\n",
    "        ymin_npi = ymin-npi\n",
    "        xmax_npi = xmax+npi\n",
    "        xmin_npi = xmin-npi\n",
    "\n",
    "        if(ymax_npi)>768:\n",
    "            ymax_npi = 768\n",
    "        if(ymin_npi)<0:\n",
    "            ymin_npi = 0\n",
    "        if(xmax_npi)>768:\n",
    "            xmax_npi = 768\n",
    "        if(xmin_npi)<0:\n",
    "            xmin_npi = 0\n",
    "\n",
    "        #print(ymin_npi,ymax_npi, xmin_npi,xmax_npi)\n",
    "        list_box.append(img[ymin_npi:ymax_npi, xmin_npi:xmax_npi])\n",
    "    return list_box\n",
    "\n",
    "def save_list_box(list_box, grid_box, path_dir, record_id):\n",
    "    if not os.path.exists(path_dir):\n",
    "        os.makedirs(path_dir)\n",
    "    for box, npi in zip(list_box, grid_box):\n",
    "        io.imsave(os.path.join(path_dir, record_id+'_'+str(npi)+\".jpg\"),box)\n",
    "\n"
   ]
  },
  {
   "cell_type": "code",
   "execution_count": 153,
   "metadata": {},
   "outputs": [],
   "source": [
    "coord = [298, 311, 493, 500]\n",
    "grid_box = [100, 150, 200]\n",
    "image_path = \"/classification_speed_boat/data/image.jpeg\"\n",
    "path_dir = \"/classification_speed_boat/data/clean_samples\"\n",
    "record_id = \"tmptmp\""
   ]
  },
  {
   "cell_type": "code",
   "execution_count": 154,
   "metadata": {},
   "outputs": [],
   "source": [
    "img = io.imread(image_path)"
   ]
  },
  {
   "cell_type": "code",
   "execution_count": 155,
   "metadata": {},
   "outputs": [],
   "source": [
    "list_box = create_list_box(img, coord)"
   ]
  },
  {
   "cell_type": "code",
   "execution_count": 156,
   "metadata": {},
   "outputs": [],
   "source": [
    "save_list_box(list_box, grid_box, path_dir, record_id)"
   ]
  },
  {
   "cell_type": "code",
   "execution_count": null,
   "metadata": {},
   "outputs": [],
   "source": []
  }
 ],
 "metadata": {
  "kernelspec": {
   "display_name": "Python 3",
   "language": "python",
   "name": "python3"
  },
  "language_info": {
   "codemirror_mode": {
    "name": "ipython",
    "version": 3
   },
   "file_extension": ".py",
   "mimetype": "text/x-python",
   "name": "python",
   "nbconvert_exporter": "python",
   "pygments_lexer": "ipython3",
   "version": "3.7.3"
  }
 },
 "nbformat": 4,
 "nbformat_minor": 2
}
