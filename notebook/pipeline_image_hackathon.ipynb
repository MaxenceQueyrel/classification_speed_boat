{
 "cells": [
  {
   "cell_type": "code",
   "execution_count": 1,
   "metadata": {},
   "outputs": [],
   "source": [
    "from __future__ import print_function, division\n",
    "\n",
    "import torchvision\n",
    "\n",
    "import skimage\n",
    "from PIL import Image\n",
    "\n",
    "import os\n",
    "import torch\n",
    "import pandas as pd\n",
    "from skimage import io, transform\n",
    "import numpy as np\n",
    "import matplotlib.pyplot as plt\n",
    "from torch.utils.data import Dataset, DataLoader\n",
    "from torchvision import transforms, utils\n",
    "\n",
    "from sklearn.preprocessing import LabelEncoder\n",
    "from sklearn.model_selection import train_test_split\n",
    "\n",
    "from pprint import pprint\n",
    "import json\n",
    "from tqdm import tqdm\n",
    "import subprocess\n",
    "plt.ion()   # interactive mode"
   ]
  },
  {
   "cell_type": "code",
   "execution_count": 8,
   "metadata": {},
   "outputs": [],
   "source": [
    "def pil_loader(path):\n",
    "    \"\"\"\n",
    "    Load an image into PIL format and convert it into RGB    \n",
    "    :param path: String, Complete path of the image file\n",
    "    :return: PIL image\n",
    "    \"\"\"\n",
    "    image = Image.open(path)\n",
    "    return image.convert(\"RGB\")\n",
    "    \n",
    "def show_tensor_image(tensor):\n",
    "    \"\"\"\n",
    "    Take a tensor and show the corresponding image\n",
    "    :param tensor: Pytorch Tensor, [channels, height, width]\n",
    "    :return:\n",
    "    \"\"\"\n",
    "    tensor = tensor.transpose(0, 1)\n",
    "    tensor = tensor.transpose(1, 2)\n",
    "    io.imshow(tensor.cpu().numpy())\n",
    "\n",
    "def create_valid_train_set(csv_info_name, data_clean_dir, dataset_name, test_size):\n",
    "    csv_info_name = os.path.join(data_clean_dir, dataset_name, csv_info_name)\n",
    "    csv_info = pd.read_csv(csv_info_name)\n",
    "    return train_test_split(csv_info, test_size=test_size,\n",
    "                            random_state=42, stratify=csv_info[\"tag\"])\n",
    "    "
   ]
  },
  {
   "cell_type": "code",
   "execution_count": 9,
   "metadata": {},
   "outputs": [],
   "source": [
    "class SatelliteImageDataset(Dataset):\n",
    "    \"\"\"Load a satellite dataset\"\"\"\n",
    "\n",
    "    def __init__(self, X, transform=transforms.ToTensor(), device=torch.device(\"cpu\")):\n",
    "        \"\"\"\n",
    "        Create a satellite image dataset\n",
    "        :param transform: torchvion transform function, Optional transform to be applied\n",
    "                on an image.\n",
    "        :device: Pytorch device: cpu or gpu to move the data into the good device\n",
    "        \"\"\"\n",
    "        self.X = X\n",
    "        self.L_image_path = list(self.X[\"image_clean_path\"])\n",
    "        lab_enc = LabelEncoder()\n",
    "        self.X[\"tag\"] = lab_enc.fit_transform(self.X[\"tag\"])\n",
    "        self.L_tag = list(self.X[\"tag\"])\n",
    "        self.classes_ = lab_enc.classes_\n",
    "        self.transform = transform\n",
    "        self.device = device\n",
    "\n",
    "    def __len__(self):\n",
    "        return len(self.L_image_path)\n",
    "\n",
    "    def __getitem__(self, idx):\n",
    "        if torch.is_tensor(idx):\n",
    "            idx = idx.tolist()\n",
    "        image = pil_loader(self.L_image_path[idx])\n",
    "        image = self.transform(image)\n",
    "        return image.to(self.device), torch.tensor(self.L_tag[idx], dtype=torch.int)"
   ]
  },
  {
   "cell_type": "code",
   "execution_count": 10,
   "metadata": {},
   "outputs": [],
   "source": [
    "data_dir = \"/classification_speed_boat/data/\"\n",
    "data_clean_dir = \"/classification_speed_boat/data_clean/\"\n",
    "dataset_name = \"train\"\n",
    "csv_info_name = \"info_boat.csv\"\n",
    "csv_clean_name = \"info_boat.csv\"\n",
    "grid_box = [100, 150, 200]\n",
    "\n",
    "model_name = \"baseline\"\n",
    "prediction_dir = \"/classification_speed_boat/prediction/\"\n",
    "csv_preds_name = \"preds.csv\"\n",
    "\n",
    "# Parameters\n",
    "test_size = 0.2\n",
    "\n",
    "size = 128\n",
    "transform = transforms.Compose([transforms.Resize((size, size)),\n",
    "                                transforms.ToTensor()])\n",
    "batch_size = 64\n",
    "num_worker = 0\n",
    "device = torch.device(\"cuda:0\" if torch.cuda.is_available() else \"cpu\")\n",
    "\n",
    "X_train, X_valid = create_valid_train_set(csv_info_name, data_clean_dir, dataset_name, test_size)\n",
    "\n",
    "# Create dataset\n",
    "train_dataset = SatelliteImageDataset(X_train, transform, device)\n",
    "valid_dataset = SatelliteImageDataset(X_valid, transform, device)\n",
    "\n",
    "# create loader\n",
    "train_loader = DataLoader(train_dataset, batch_size=batch_size,\n",
    "                          num_workers=num_worker, shuffle=True)\n",
    "valid_loader = DataLoader(valid_dataset, batch_size=batch_size,\n",
    "                          num_workers=num_worker, shuffle=True)"
   ]
  },
  {
   "cell_type": "code",
   "execution_count": 11,
   "metadata": {},
   "outputs": [],
   "source": [
    "b, c = next(iter(train_loader))"
   ]
  },
  {
   "cell_type": "code",
   "execution_count": 13,
   "metadata": {},
   "outputs": [
    {
     "data": {
      "text/plain": [
       "tensor([1, 1, 1, 2, 1, 2, 0, 1, 2, 1, 1, 1, 1, 2, 1, 1, 1, 1, 1, 1, 1, 1, 2, 1,\n",
       "        1, 1, 2, 1, 0, 1, 1, 0, 1, 0, 1, 1, 1, 1, 1, 1, 2, 1, 1, 0, 2, 1, 2, 1,\n",
       "        2, 2, 1, 1, 0, 1, 0, 1, 1, 1, 1, 1, 1, 1, 1, 1], dtype=torch.int32)"
      ]
     },
     "execution_count": 13,
     "metadata": {},
     "output_type": "execute_result"
    }
   ],
   "source": [
    "c"
   ]
  },
  {
   "cell_type": "code",
   "execution_count": null,
   "metadata": {},
   "outputs": [],
   "source": []
  }
 ],
 "metadata": {
  "kernelspec": {
   "display_name": "Python 3",
   "language": "python",
   "name": "python3"
  },
  "language_info": {
   "codemirror_mode": {
    "name": "ipython",
    "version": 3
   },
   "file_extension": ".py",
   "mimetype": "text/x-python",
   "name": "python",
   "nbconvert_exporter": "python",
   "pygments_lexer": "ipython3",
   "version": "3.7.3"
  }
 },
 "nbformat": 4,
 "nbformat_minor": 2
}
